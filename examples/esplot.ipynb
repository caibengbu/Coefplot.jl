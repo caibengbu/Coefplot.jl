{
 "cells": [
  {
   "cell_type": "code",
   "execution_count": 1,
   "metadata": {},
   "outputs": [
    {
     "data": {
      "text/plain": [
       "MersenneTwister(1234)"
      ]
     },
     "execution_count": 1,
     "metadata": {},
     "output_type": "execute_result"
    }
   ],
   "source": [
    "include(\"../src/Coefplots.jl\")\n",
    "using .Coefplots\n",
    "# using Coefplots\n",
    "using FixedEffectModels\n",
    "using DataFrames\n",
    "using Random\n",
    "\n",
    "Random.seed!(1234)"
   ]
  },
  {
   "cell_type": "code",
   "execution_count": 2,
   "metadata": {
    "scrolled": true
   },
   "outputs": [
    {
     "data": {
      "text/html": [
       "<div class=\"data-frame\"><p>2,000 rows × 4 columns</p><table class=\"data-frame\"><thead><tr><th></th><th>id</th><th>time</th><th>outcome</th><th>treatment</th></tr><tr><th></th><th title=\"Int64\">Int64</th><th title=\"Int64\">Int64</th><th title=\"Float64\">Float64</th><th title=\"Float64\">Float64</th></tr></thead><tbody><tr><th>1</th><td>1</td><td>-7</td><td>-5.46783</td><td>0.590845</td></tr><tr><th>2</th><td>1</td><td>-6</td><td>-4.25593</td><td>0.590845</td></tr><tr><th>3</th><td>1</td><td>-5</td><td>-3.82579</td><td>0.590845</td></tr><tr><th>4</th><td>1</td><td>-4</td><td>-2.39046</td><td>0.590845</td></tr><tr><th>5</th><td>1</td><td>-3</td><td>-1.41889</td><td>0.590845</td></tr><tr><th>6</th><td>1</td><td>-2</td><td>-0.53814</td><td>0.590845</td></tr><tr><th>7</th><td>1</td><td>-1</td><td>0.854807</td><td>0.590845</td></tr><tr><th>8</th><td>1</td><td>0</td><td>1.64796</td><td>0.590845</td></tr><tr><th>9</th><td>1</td><td>1</td><td>3.37571</td><td>0.590845</td></tr><tr><th>10</th><td>1</td><td>2</td><td>3.67128</td><td>0.590845</td></tr><tr><th>11</th><td>1</td><td>3</td><td>5.12311</td><td>0.590845</td></tr><tr><th>12</th><td>1</td><td>4</td><td>6.16067</td><td>0.590845</td></tr><tr><th>13</th><td>1</td><td>5</td><td>7.14896</td><td>0.590845</td></tr><tr><th>14</th><td>1</td><td>6</td><td>8.24712</td><td>0.590845</td></tr><tr><th>15</th><td>1</td><td>7</td><td>9.52124</td><td>0.590845</td></tr><tr><th>16</th><td>1</td><td>8</td><td>10.1192</td><td>0.590845</td></tr><tr><th>17</th><td>1</td><td>9</td><td>10.7083</td><td>0.590845</td></tr><tr><th>18</th><td>1</td><td>10</td><td>12.2699</td><td>0.590845</td></tr><tr><th>19</th><td>1</td><td>11</td><td>12.8107</td><td>0.590845</td></tr><tr><th>20</th><td>1</td><td>12</td><td>14.2694</td><td>0.590845</td></tr><tr><th>21</th><td>2</td><td>-7</td><td>-4.5011</td><td>0.766797</td></tr><tr><th>22</th><td>2</td><td>-6</td><td>-3.46789</td><td>0.766797</td></tr><tr><th>23</th><td>2</td><td>-5</td><td>-2.82761</td><td>0.766797</td></tr><tr><th>24</th><td>2</td><td>-4</td><td>-1.24354</td><td>0.766797</td></tr><tr><th>25</th><td>2</td><td>-3</td><td>-0.817946</td><td>0.766797</td></tr><tr><th>26</th><td>2</td><td>-2</td><td>0.693402</td><td>0.766797</td></tr><tr><th>27</th><td>2</td><td>-1</td><td>1.69349</td><td>0.766797</td></tr><tr><th>28</th><td>2</td><td>0</td><td>2.14783</td><td>0.766797</td></tr><tr><th>29</th><td>2</td><td>1</td><td>4.36127</td><td>0.766797</td></tr><tr><th>30</th><td>2</td><td>2</td><td>5.2456</td><td>0.766797</td></tr><tr><th>&vellip;</th><td>&vellip;</td><td>&vellip;</td><td>&vellip;</td><td>&vellip;</td></tr></tbody></table></div>"
      ],
      "text/latex": [
       "\\begin{tabular}{r|cccc}\n",
       "\t& id & time & outcome & treatment\\\\\n",
       "\t\\hline\n",
       "\t& Int64 & Int64 & Float64 & Float64\\\\\n",
       "\t\\hline\n",
       "\t1 & 1 & -7 & -5.46783 & 0.590845 \\\\\n",
       "\t2 & 1 & -6 & -4.25593 & 0.590845 \\\\\n",
       "\t3 & 1 & -5 & -3.82579 & 0.590845 \\\\\n",
       "\t4 & 1 & -4 & -2.39046 & 0.590845 \\\\\n",
       "\t5 & 1 & -3 & -1.41889 & 0.590845 \\\\\n",
       "\t6 & 1 & -2 & -0.53814 & 0.590845 \\\\\n",
       "\t7 & 1 & -1 & 0.854807 & 0.590845 \\\\\n",
       "\t8 & 1 & 0 & 1.64796 & 0.590845 \\\\\n",
       "\t9 & 1 & 1 & 3.37571 & 0.590845 \\\\\n",
       "\t10 & 1 & 2 & 3.67128 & 0.590845 \\\\\n",
       "\t11 & 1 & 3 & 5.12311 & 0.590845 \\\\\n",
       "\t12 & 1 & 4 & 6.16067 & 0.590845 \\\\\n",
       "\t13 & 1 & 5 & 7.14896 & 0.590845 \\\\\n",
       "\t14 & 1 & 6 & 8.24712 & 0.590845 \\\\\n",
       "\t15 & 1 & 7 & 9.52124 & 0.590845 \\\\\n",
       "\t16 & 1 & 8 & 10.1192 & 0.590845 \\\\\n",
       "\t17 & 1 & 9 & 10.7083 & 0.590845 \\\\\n",
       "\t18 & 1 & 10 & 12.2699 & 0.590845 \\\\\n",
       "\t19 & 1 & 11 & 12.8107 & 0.590845 \\\\\n",
       "\t20 & 1 & 12 & 14.2694 & 0.590845 \\\\\n",
       "\t21 & 2 & -7 & -4.5011 & 0.766797 \\\\\n",
       "\t22 & 2 & -6 & -3.46789 & 0.766797 \\\\\n",
       "\t23 & 2 & -5 & -2.82761 & 0.766797 \\\\\n",
       "\t24 & 2 & -4 & -1.24354 & 0.766797 \\\\\n",
       "\t25 & 2 & -3 & -0.817946 & 0.766797 \\\\\n",
       "\t26 & 2 & -2 & 0.693402 & 0.766797 \\\\\n",
       "\t27 & 2 & -1 & 1.69349 & 0.766797 \\\\\n",
       "\t28 & 2 & 0 & 2.14783 & 0.766797 \\\\\n",
       "\t29 & 2 & 1 & 4.36127 & 0.766797 \\\\\n",
       "\t30 & 2 & 2 & 5.2456 & 0.766797 \\\\\n",
       "\t$\\dots$ & $\\dots$ & $\\dots$ & $\\dots$ & $\\dots$ \\\\\n",
       "\\end{tabular}\n"
      ],
      "text/plain": [
       "\u001b[1m2000×4 DataFrame\u001b[0m\n",
       "\u001b[1m  Row \u001b[0m│\u001b[1m id    \u001b[0m\u001b[1m time  \u001b[0m\u001b[1m outcome    \u001b[0m\u001b[1m treatment \u001b[0m\n",
       "\u001b[1m      \u001b[0m│\u001b[90m Int64 \u001b[0m\u001b[90m Int64 \u001b[0m\u001b[90m Float64    \u001b[0m\u001b[90m Float64   \u001b[0m\n",
       "──────┼─────────────────────────────────────\n",
       "    1 │     1     -7   -5.46783    0.590845\n",
       "    2 │     1     -6   -4.25593    0.590845\n",
       "    3 │     1     -5   -3.82579    0.590845\n",
       "    4 │     1     -4   -2.39046    0.590845\n",
       "    5 │     1     -3   -1.41889    0.590845\n",
       "    6 │     1     -2   -0.53814    0.590845\n",
       "    7 │     1     -1    0.854807   0.590845\n",
       "    8 │     1      0    1.64796    0.590845\n",
       "    9 │     1      1    3.37571    0.590845\n",
       "   10 │     1      2    3.67128    0.590845\n",
       "   11 │     1      3    5.12311    0.590845\n",
       "  ⋮   │   ⋮      ⋮        ⋮           ⋮\n",
       " 1991 │   100      3  103.009      0.0\n",
       " 1992 │   100      4  104.218      0.0\n",
       " 1993 │   100      5  105.538      0.0\n",
       " 1994 │   100      6  106.057      0.0\n",
       " 1995 │   100      7  107.527      0.0\n",
       " 1996 │   100      8  108.015      0.0\n",
       " 1997 │   100      9  109.269      0.0\n",
       " 1998 │   100     10  110.923      0.0\n",
       " 1999 │   100     11  111.291      0.0\n",
       " 2000 │   100     12  112.613      0.0\n",
       "\u001b[36m                           1979 rows omitted\u001b[0m"
      ]
     },
     "execution_count": 2,
     "metadata": {},
     "output_type": "execute_result"
    }
   ],
   "source": [
    "N = 100 # 100 individuals\n",
    "T = 20 # 20 periods\n",
    "event_time = 8 # make the third period be the event time\n",
    "id = repeat(1:N, inner=T) # generate id\n",
    "is_treated = id .< N/2 # make first half of individuals are treated, last half of indivuduals are controls\n",
    "time = repeat(1:T, outer=N) .- event_time # generate time\n",
    "treatment = repeat(rand(N), inner=T) .* is_treated # generate treatment, 0 if obs are controls\n",
    "outcome = treatment .* (time .> 0) + id + time .+ rand(N*T) # generate outcome, treatment only have an effect after event time\n",
    "# use face value of id, time as FE, also add a noise.\n",
    "\n",
    "df = DataFrame(id = id, time = time, outcome = outcome, treatment = treatment)"
   ]
  },
  {
   "cell_type": "code",
   "execution_count": 3,
   "metadata": {
    "scrolled": true
   },
   "outputs": [
    {
     "name": "stdout",
     "output_type": "stream",
     "text": [
      "    \u001b[36m\u001b[1mDemean Variables:\u001b[22m\u001b[39m [==>                              ]  1/20\r",
      "    \u001b[36m\u001b[1mDemean Variables:\u001b[22m\u001b[39m [====>                            ]  2/20\r",
      "    \u001b[36m\u001b[1mDemean Variables:\u001b[22m\u001b[39m [=====>                           ]  3/20\r",
      "    \u001b[36m\u001b[1mDemean Variables:\u001b[22m\u001b[39m [=======>                         ]  4/20\r",
      "    \u001b[36m\u001b[1mDemean Variables:\u001b[22m\u001b[39m [========>                        ]  5/20\r",
      "    \u001b[36m\u001b[1mDemean Variables:\u001b[22m\u001b[39m [==========>                      ]  6/20\r",
      "    \u001b[36m\u001b[1mDemean Variables:\u001b[22m\u001b[39m [============>                    ]  7/20\r",
      "    \u001b[36m\u001b[1mDemean Variables:\u001b[22m\u001b[39m [=============>                   ]  8/20\r",
      "    \u001b[36m\u001b[1mDemean Variables:\u001b[22m\u001b[39m [===============>                 ]  9/20\r",
      "    \u001b[36m\u001b[1mDemean Variables:\u001b[22m\u001b[39m [================>                ]  10/20\r",
      "    \u001b[36m\u001b[1mDemean Variables:\u001b[22m\u001b[39m [==================>              ]  11/20\r",
      "    \u001b[36m\u001b[1mDemean Variables:\u001b[22m\u001b[39m [====================>            ]  12/20\r",
      "    \u001b[36m\u001b[1mDemean Variables:\u001b[22m\u001b[39m [=====================>           ]  13/20\r",
      "    \u001b[36m\u001b[1mDemean Variables:\u001b[22m\u001b[39m [=======================>         ]  14/20\r",
      "    \u001b[36m\u001b[1mDemean Variables:\u001b[22m\u001b[39m [========================>        ]  15/20\r",
      "    \u001b[36m\u001b[1mDemean Variables:\u001b[22m\u001b[39m [==========================>      ]  16/20\r",
      "    \u001b[36m\u001b[1mDemean Variables:\u001b[22m\u001b[39m [============================>    ]  17/20\r",
      "    \u001b[36m\u001b[1mDemean Variables:\u001b[22m\u001b[39m [=============================>   ]  18/20\r",
      "    \u001b[36m\u001b[1mDemean Variables:\u001b[22m\u001b[39m [===============================> ]  19/20\r",
      "    \u001b[36m\u001b[1mDemean Variables:\u001b[22m\u001b[39m [================================>]  20/20\r",
      "\u001b[?25h\u001b[2K"
     ]
    },
    {
     "data": {
      "text/plain": [
       "                               Fixed Effect Model                               \n",
       "=================================================================================\n",
       "Number of obs:                     2000   Degrees of freedom:                 139\n",
       "R2:                               1.000   R2 Adjusted:                      1.000\n",
       "F-Stat:                         29.3497   p-value:                          0.000\n",
       "R2 within:                        0.231   Iterations:                           2\n",
       "=================================================================================\n",
       "outcome              |  Estimate Std.Error  t value Pr(>|t|)  Lower 95% Upper 95%\n",
       "---------------------------------------------------------------------------------\n",
       "time: -7 & treatment | 0.0495207  0.130428 0.379679    0.704  -0.206279  0.305321\n",
       "time: -6 & treatment | 0.0166465  0.130428  0.12763    0.898  -0.239154  0.272447\n",
       "time: -5 & treatment | 0.0427165  0.130428 0.327511    0.743  -0.213084  0.298517\n",
       "time: -4 & treatment |  0.258609  0.130428  1.98277    0.048 0.00280869  0.514409\n",
       "time: -3 & treatment |  0.165605  0.130428  1.26971    0.204 -0.0901948  0.421405\n",
       "time: -2 & treatment |  0.071445  0.130428 0.547774    0.584  -0.184355  0.327245\n",
       "time: -1 & treatment | 0.0526178  0.130428 0.403425    0.687  -0.203182  0.308418\n",
       "time: 1 & treatment  |  0.990716  0.130428   7.5959    0.000   0.734916   1.24652\n",
       "time: 2 & treatment  |   1.08953  0.130428  8.35348    0.000   0.833725   1.34533\n",
       "time: 3 & treatment  |   1.05883  0.130428  8.11815    0.000   0.803032   1.31463\n",
       "time: 4 & treatment  |  0.981193  0.130428  7.52289    0.000   0.725393   1.23699\n",
       "time: 5 & treatment  |   1.15841  0.130428  8.88164    0.000   0.902612   1.41421\n",
       "time: 6 & treatment  |   1.10289  0.130428  8.45597    0.000   0.847093   1.35869\n",
       "time: 7 & treatment  |   1.07527  0.130428  8.24415    0.000   0.819466   1.33107\n",
       "time: 8 & treatment  |   1.01468  0.130428  7.77966    0.000   0.758883   1.27048\n",
       "time: 9 & treatment  |  0.837212  0.130428  6.41897    0.000   0.581412   1.09301\n",
       "time: 10 & treatment |   1.17133  0.130428  8.98069    0.000   0.915531   1.42713\n",
       "time: 11 & treatment |   1.07443  0.130428  8.23778    0.000   0.818635   1.33023\n",
       "time: 12 & treatment |   1.16708  0.130428  8.94813    0.000   0.911285   1.42288\n",
       "=================================================================================\n"
      ]
     },
     "execution_count": 3,
     "metadata": {},
     "output_type": "execute_result"
    }
   ],
   "source": [
    "res = reg(df, @formula(outcome ~ time&treatment + fe(id) + fe(time)); contrasts = Dict(:time => DummyCoding(base=0)))"
   ]
  },
  {
   "cell_type": "code",
   "execution_count": 4,
   "metadata": {},
   "outputs": [
    {
     "data": {
      "image/png": "[encoded data removed]"
     },
     "metadata": {},
     "output_type": "display_data"
    }
   ],
   "source": [
    "esplot(res; normalized_period = 0)"
   ]
  },
  {
   "cell_type": "code",
   "execution_count": 7,
   "metadata": {},
   "outputs": [
    {
     "data": {
      "image/png": "[encoded data removed]"
     },
     "metadata": {},
     "output_type": "display_data"
    }
   ],
   "source": [
    "using PGFPlotsX\n",
    "es_plot = esparse(res; normalized_period = 0)\n",
    "addcomponent!(es_plot, @pgf VLine({red, dashed},event_time+0.5)) # add a vertical line red dashed line\n",
    "plot(es_plot)"
   ]
  }
 ],
 "metadata": {
  "kernelspec": {
   "display_name": "Julia 1.6.2",
   "language": "julia",
   "name": "julia-1.6"
  },
  "language_info": {
   "file_extension": ".jl",
   "mimetype": "application/julia",
   "name": "julia",
   "version": "1.6.2"
  }
 },
 "nbformat": 4,
 "nbformat_minor": 4
}
