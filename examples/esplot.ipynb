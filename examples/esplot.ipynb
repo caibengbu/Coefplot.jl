{
 "cells": [
  {
   "cell_type": "code",
   "execution_count": 1,
   "metadata": {},
   "outputs": [
    {
     "data": {
      "text/plain": [
       "MersenneTwister(1234)"
      ]
     },
     "execution_count": 1,
     "metadata": {},
     "output_type": "execute_result"
    }
   ],
   "source": [
    "include(\"../src/Coefplots.jl\")\n",
    "using .Coefplots\n",
    "# using Coefplots\n",
    "using FixedEffectModels\n",
    "using DataFrames\n",
    "using Random\n",
    "\n",
    "Random.seed!(1234)"
   ]
  },
  {
   "cell_type": "code",
   "execution_count": 2,
   "metadata": {
    "scrolled": true
   },
   "outputs": [
    {
     "data": {
      "text/html": [
       "<div class=\"data-frame\"><p>10 rows × 4 columns</p><table class=\"data-frame\"><thead><tr><th></th><th>id</th><th>time</th><th>outcome</th><th>treatment</th></tr><tr><th></th><th title=\"Int64\">Int64</th><th title=\"Float64\">Float64</th><th title=\"Float64\">Float64</th><th title=\"Float64\">Float64</th></tr></thead><tbody><tr><th>1</th><td>1</td><td>-7.0</td><td>0.0</td><td>0.590845</td></tr><tr><th>2</th><td>1</td><td>-6.0</td><td>0.0102633</td><td>0.590845</td></tr><tr><th>3</th><td>1</td><td>-5.0</td><td>0.0139061</td><td>0.590845</td></tr><tr><th>4</th><td>1</td><td>-4.0</td><td>0.0260617</td><td>0.590845</td></tr><tr><th>5</th><td>1</td><td>-3.0</td><td>0.0342897</td><td>0.590845</td></tr><tr><th>6</th><td>1</td><td>-2.0</td><td>0.0417486</td><td>0.590845</td></tr><tr><th>7</th><td>1</td><td>-1.0</td><td>0.0535452</td><td>0.590845</td></tr><tr><th>8</th><td>1</td><td>0.0</td><td>0.0602622</td><td>0.590845</td></tr><tr><th>9</th><td>1</td><td>1.0</td><td>0.0748942</td><td>0.590845</td></tr><tr><th>10</th><td>1</td><td>2.0</td><td>0.0773973</td><td>0.590845</td></tr></tbody></table></div>"
      ],
      "text/latex": [
       "\\begin{tabular}{r|cccc}\n",
       "\t& id & time & outcome & treatment\\\\\n",
       "\t\\hline\n",
       "\t& Int64 & Float64 & Float64 & Float64\\\\\n",
       "\t\\hline\n",
       "\t1 & 1 & -7.0 & 0.0 & 0.590845 \\\\\n",
       "\t2 & 1 & -6.0 & 0.0102633 & 0.590845 \\\\\n",
       "\t3 & 1 & -5.0 & 0.0139061 & 0.590845 \\\\\n",
       "\t4 & 1 & -4.0 & 0.0260617 & 0.590845 \\\\\n",
       "\t5 & 1 & -3.0 & 0.0342897 & 0.590845 \\\\\n",
       "\t6 & 1 & -2.0 & 0.0417486 & 0.590845 \\\\\n",
       "\t7 & 1 & -1.0 & 0.0535452 & 0.590845 \\\\\n",
       "\t8 & 1 & 0.0 & 0.0602622 & 0.590845 \\\\\n",
       "\t9 & 1 & 1.0 & 0.0748942 & 0.590845 \\\\\n",
       "\t10 & 1 & 2.0 & 0.0773973 & 0.590845 \\\\\n",
       "\\end{tabular}\n"
      ],
      "text/plain": [
       "\u001b[1m10×4 DataFrame\u001b[0m\n",
       "\u001b[1m Row \u001b[0m│\u001b[1m id    \u001b[0m\u001b[1m time    \u001b[0m\u001b[1m outcome   \u001b[0m\u001b[1m treatment \u001b[0m\n",
       "\u001b[1m     \u001b[0m│\u001b[90m Int64 \u001b[0m\u001b[90m Float64 \u001b[0m\u001b[90m Float64   \u001b[0m\u001b[90m Float64   \u001b[0m\n",
       "─────┼──────────────────────────────────────\n",
       "   1 │     1     -7.0  0.0         0.590845\n",
       "   2 │     1     -6.0  0.0102633   0.590845\n",
       "   3 │     1     -5.0  0.0139061   0.590845\n",
       "   4 │     1     -4.0  0.0260617   0.590845\n",
       "   5 │     1     -3.0  0.0342897   0.590845\n",
       "   6 │     1     -2.0  0.0417486   0.590845\n",
       "   7 │     1     -1.0  0.0535452   0.590845\n",
       "   8 │     1      0.0  0.0602622   0.590845\n",
       "   9 │     1      1.0  0.0748942   0.590845\n",
       "  10 │     1      2.0  0.0773973   0.590845"
      ]
     },
     "execution_count": 2,
     "metadata": {},
     "output_type": "execute_result"
    }
   ],
   "source": [
    "N = 100 # 100 individuals\n",
    "T = 20 # 20 periods\n",
    "event_time = 8 # make the eighth period be the event time\n",
    "id = repeat(1:N, inner=T) # generate id\n",
    "is_treated = id .< N/2 # make first half of individuals are treated, last half of indivuduals are controls\n",
    "time = Float64.(repeat(1:T, outer=N) .- event_time) # generate time\n",
    "treatment = repeat(rand(N), inner=T) .* is_treated # generate treatment, 0 if obs are controls\n",
    "outcome = treatment .* (time .> 0) + id + time .+ rand(N*T) # generate outcome, treatment only have an effect after event time\n",
    "# use face value of id, time as FE, also add a noise.\n",
    "min_outcome = minimum(outcome)\n",
    "max_outcome = maximum(outcome)\n",
    "outcome = (outcome .- min_outcome)./(max_outcome - min_outcome)\n",
    "\n",
    "\n",
    "df = DataFrame(id = id, time = time, outcome = outcome, treatment = treatment)\n",
    "first(df,10)"
   ]
  },
  {
   "cell_type": "code",
   "execution_count": 3,
   "metadata": {
    "scrolled": true
   },
   "outputs": [
    {
     "name": "stdout",
     "output_type": "stream",
     "text": [
      "    \u001b[36m\u001b[1mDemean Variables:\u001b[22m\u001b[39m [==>                              ]  1/21\r",
      "    \u001b[36m\u001b[1mDemean Variables:\u001b[22m\u001b[39m [====>                            ]  2/21\r",
      "    \u001b[36m\u001b[1mDemean Variables:\u001b[22m\u001b[39m [=====>                           ]  3/21\r",
      "    \u001b[36m\u001b[1mDemean Variables:\u001b[22m\u001b[39m [=======>                         ]  4/21\r",
      "    \u001b[36m\u001b[1mDemean Variables:\u001b[22m\u001b[39m [========>                        ]  5/21\r",
      "    \u001b[36m\u001b[1mDemean Variables:\u001b[22m\u001b[39m [==========>                      ]  6/21\r",
      "    \u001b[36m\u001b[1mDemean Variables:\u001b[22m\u001b[39m [===========>                     ]  7/21\r",
      "    \u001b[36m\u001b[1mDemean Variables:\u001b[22m\u001b[39m [=============>                   ]  8/21\r",
      "    \u001b[36m\u001b[1mDemean Variables:\u001b[22m\u001b[39m [==============>                  ]  9/21\r",
      "    \u001b[36m\u001b[1mDemean Variables:\u001b[22m\u001b[39m [================>                ]  10/21\r",
      "    \u001b[36m\u001b[1mDemean Variables:\u001b[22m\u001b[39m [=================>               ]  11/21\r",
      "    \u001b[36m\u001b[1mDemean Variables:\u001b[22m\u001b[39m [===================>             ]  12/21\r",
      "    \u001b[36m\u001b[1mDemean Variables:\u001b[22m\u001b[39m [====================>            ]  13/21\r",
      "    \u001b[36m\u001b[1mDemean Variables:\u001b[22m\u001b[39m [======================>          ]  14/21\r",
      "    \u001b[36m\u001b[1mDemean Variables:\u001b[22m\u001b[39m [=======================>         ]  15/21\r",
      "    \u001b[36m\u001b[1mDemean Variables:\u001b[22m\u001b[39m [=========================>       ]  16/21\r",
      "    \u001b[36m\u001b[1mDemean Variables:\u001b[22m\u001b[39m [==========================>      ]  17/21\r",
      "    \u001b[36m\u001b[1mDemean Variables:\u001b[22m\u001b[39m [============================>    ]  18/21\r",
      "    \u001b[36m\u001b[1mDemean Variables:\u001b[22m\u001b[39m [=============================>   ]  19/21\r",
      "    \u001b[36m\u001b[1mDemean Variables:\u001b[22m\u001b[39m [===============================> ]  20/21\r",
      "    \u001b[36m\u001b[1mDemean Variables:\u001b[22m\u001b[39m [================================>]  21/21\r",
      "\u001b[?25h\u001b[2K"
     ]
    }
   ],
   "source": [
    "res = reg(df, @formula(outcome ~ time&treatment + treatment + fe(id) + fe(time)); contrasts = Dict(:time => DummyCoding(base=0))); "
   ]
  },
  {
   "cell_type": "code",
   "execution_count": 4,
   "metadata": {},
   "outputs": [
    {
     "name": "stderr",
     "output_type": "stream",
     "text": [
      "┌ Info: the renaming is partial, sorting will drop coefficients that is not renamed...\n",
      "└ @ Main.Coefplots /Users/sunye/Downloads/Coefplots.jl/src/coefplot.jl:277\n"
     ]
    },
    {
     "data": {
      "image/png": "[encoded data removed]"
     },
     "metadata": {},
     "output_type": "display_data"
    }
   ],
   "source": [
    "using PGFPlotsX\n",
    "es_plot = esparse(res; normalized_period = 0)\n",
    "setxtitle!(es_plot,\"time\")\n",
    "setytitle!(es_plot,\"estimates\")\n",
    "setname!(es_plot,\"My Example Event Study Plot\")\n",
    "includenote!(es_plot,\"Note: This is my note. These are very important captions and should not be missed for readers. This part contains a lot of important details about the figure presented in the above.\")\n",
    "\n",
    "addcomponent!(es_plot, @pgf VLine({red, dashed},event_time+0.5)) # add a vertical line red dashed line\n",
    "addcomponent!(es_plot, @pgf HLine({red},0)) # add a horizontal line red dashed line\n",
    "plot(es_plot)"
   ]
  }
 ],
 "metadata": {
  "kernelspec": {
   "display_name": "Julia 1.6.2",
   "language": "julia",
   "name": "julia-1.6"
  },
  "language_info": {
   "file_extension": ".jl",
   "mimetype": "application/julia",
   "name": "julia",
   "version": "1.6.2"
  }
 },
 "nbformat": 4,
 "nbformat_minor": 4
}
