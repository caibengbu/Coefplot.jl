{
 "cells": [
  {
   "cell_type": "markdown",
   "metadata": {},
   "source": [
    "# Quick Start"
   ]
  },
  {
   "cell_type": "markdown",
   "metadata": {},
   "source": [
    "We use the Iris dataset from RDatasets.jl to demonstrate the basic usage of Coefplots.jl"
   ]
  },
  {
   "cell_type": "code",
   "execution_count": 1,
   "metadata": {},
   "outputs": [
    {
     "name": "stderr",
     "output_type": "stream",
     "text": [
      "┌ Info: Precompiling Coefplots [1e733adb-ad75-48f7-abb8-2405b26d3281]\n",
      "└ @ Base loading.jl:1342\n",
      "\u001b[33m\u001b[1m┌ \u001b[22m\u001b[39m\u001b[33m\u001b[1mWarning: \u001b[22m\u001b[39mPackage Coefplots does not have Printf in its dependencies:\n",
      "\u001b[33m\u001b[1m│ \u001b[22m\u001b[39m- If you have Coefplots checked out for development and have\n",
      "\u001b[33m\u001b[1m│ \u001b[22m\u001b[39m  added Printf as a dependency but haven't updated your primary\n",
      "\u001b[33m\u001b[1m│ \u001b[22m\u001b[39m  environment's manifest file, try `Pkg.resolve()`.\n",
      "\u001b[33m\u001b[1m│ \u001b[22m\u001b[39m- Otherwise you may need to report an issue with Coefplots\n",
      "\u001b[33m\u001b[1m└ \u001b[22m\u001b[39mLoading Printf into Coefplots from project dependency, future warnings for Coefplots are suppressed.\n"
     ]
    },
    {
     "ename": "LoadError",
     "evalue": "InterruptException:",
     "output_type": "error",
     "traceback": [
      "InterruptException:",
      "",
      "Stacktrace:",
      " [1] _include_from_serialized(path::String, depmods::Vector{Any})",
      "   @ Base ./loading.jl:680",
      " [2] _require_search_from_serialized(pkg::Base.PkgId, sourcepath::String)",
      "   @ Base ./loading.jl:782",
      " [3] _tryrequire_from_serialized(modkey::Base.PkgId, build_id::UInt64, modpath::Nothing)",
      "   @ Base ./loading.jl:711",
      " [4] _require_from_serialized(path::String)",
      "   @ Base ./loading.jl:744",
      " [5] _require(pkg::Base.PkgId)",
      "   @ Base ./loading.jl:1053",
      " [6] require(uuidkey::Base.PkgId)",
      "   @ Base ./loading.jl:936",
      " [7] require(into::Module, mod::Symbol)",
      "   @ Base ./loading.jl:923",
      " [8] eval",
      "   @ ./boot.jl:360 [inlined]",
      " [9] include_string(mapexpr::typeof(REPL.softscope), mod::Module, code::String, filename::String)",
      "   @ Base ./loading.jl:1116"
     ]
    }
   ],
   "source": [
    "include(\"../src/Coefplots.jl\")\n",
    "using .Coefplots\n",
    "# using Coefplots\n",
    "using RDatasets\n",
    "using GLM\n",
    "using DataFrames\n",
    "\n",
    "df = dataset(\"datasets\", \"iris\"); "
   ]
  },
  {
   "cell_type": "markdown",
   "metadata": {},
   "source": [
    "## Example 1\n",
    "Plot the regression directly. "
   ]
  },
  {
   "cell_type": "code",
   "execution_count": 2,
   "metadata": {},
   "outputs": [
    {
     "ename": "LoadError",
     "evalue": "LoadError: UndefVarError: @formula not defined\nin expression starting at In[2]:2",
     "output_type": "error",
     "traceback": [
      "LoadError: UndefVarError: @formula not defined\nin expression starting at In[2]:2",
      "",
      "Stacktrace:",
      " [1] top-level scope",
      "   @ :0",
      " [2] eval",
      "   @ ./boot.jl:360 [inlined]",
      " [3] include_string(mapexpr::typeof(REPL.softscope), mod::Module, code::String, filename::String)",
      "   @ Base ./loading.jl:1116"
     ]
    }
   ],
   "source": [
    "# Example 1\n",
    "ols1 = lm(@formula(SepalLength ~ SepalWidth + PetalLength + PetalWidth), df)\n",
    "plot(ols1)\n",
    "# plot(ols1,\"../asset/example1.svg\")"
   ]
  },
  {
   "cell_type": "markdown",
   "metadata": {},
   "source": [
    "## Example 2\n",
    "You can also convert the regression model into a Coefplot object, then add other attributes of the table using `setxtitle!()`, `setytitle!()`, `setname!()`, `includenote!()` before you plot your regression."
   ]
  },
  {
   "cell_type": "code",
   "execution_count": 3,
   "metadata": {
    "scrolled": true
   },
   "outputs": [
    {
     "ename": "LoadError",
     "evalue": "UndefVarError: Coefplots not defined",
     "output_type": "error",
     "traceback": [
      "UndefVarError: Coefplots not defined",
      "",
      "Stacktrace:",
      " [1] top-level scope",
      "   @ In[3]:2",
      " [2] eval",
      "   @ ./boot.jl:360 [inlined]",
      " [3] include_string(mapexpr::typeof(REPL.softscope), mod::Module, code::String, filename::String)",
      "   @ Base ./loading.jl:1116"
     ]
    }
   ],
   "source": [
    "# Example 2\n",
    "coefplot = Coefplots.parse(ols1)\n",
    "setxtitle!(coefplot,\"coefficient\")\n",
    "setytitle!(coefplot,\"regressor\")\n",
    "setname!(coefplot,\"Coefplot of My Example Regression (Multivariate)\")\n",
    "includenote!(coefplot,\"Note: This is my note. These are very important captions and should not be missed for readers. This part contains a lot of important details about the figure presented in the above.\")\n",
    "plot(coefplot)\n",
    "# plot(coefplot,\"../asset/example2_multivariate.svg\")"
   ]
  },
  {
   "cell_type": "markdown",
   "metadata": {},
   "source": [
    "## Example 3\n",
    "To combine results from multiple coefplots and plot them in one Coefplot, use the command `concat()`"
   ]
  },
  {
   "cell_type": "code",
   "execution_count": 4,
   "metadata": {},
   "outputs": [
    {
     "ename": "LoadError",
     "evalue": "LoadError: UndefVarError: @formula not defined\nin expression starting at In[4]:2",
     "output_type": "error",
     "traceback": [
      "LoadError: UndefVarError: @formula not defined\nin expression starting at In[4]:2",
      "",
      "Stacktrace:",
      " [1] top-level scope",
      "   @ :0",
      " [2] eval",
      "   @ ./boot.jl:360 [inlined]",
      " [3] include_string(mapexpr::typeof(REPL.softscope), mod::Module, code::String, filename::String)",
      "   @ Base ./loading.jl:1116"
     ]
    }
   ],
   "source": [
    "# Example 3\n",
    "uni1 = lm(@formula(SepalLength~SepalWidth), df)\n",
    "uni2 = lm(@formula(SepalLength~PetalLength), df)\n",
    "uni3 = lm(@formula(SepalLength~PetalWidth), df)\n",
    "\n",
    "coefplot_bivar = Coefplots.concat(Coefplots.parse.([uni1,uni2,uni3]))\n",
    "setxtitle!(coefplot_bivar,\"coefficient\")\n",
    "setytitle!(coefplot_bivar,\"regressor\")\n",
    "setname!(coefplot_bivar,\"Coefplot of My Example Regression (Univariate)\")\n",
    "includenote!(coefplot_bivar,\"Note: This is my note. These are very important captions and should not be missed for readers. This part contains a lot of important details about the figure presented in the above.\")\n",
    "plot(coefplot)\n",
    "# plot(coefplot_bivar,\"../asset/example2_univariate.svg\")"
   ]
  },
  {
   "cell_type": "markdown",
   "metadata": {},
   "source": [
    "## Example 4\n",
    "To plot multiple coefplots together as a MultiCoefplot, construct the MultiCoefplot object from `MultiCoefplot()`"
   ]
  },
  {
   "cell_type": "code",
   "execution_count": 5,
   "metadata": {},
   "outputs": [
    {
     "ename": "LoadError",
     "evalue": "UndefVarError: Coefplots not defined",
     "output_type": "error",
     "traceback": [
      "UndefVarError: Coefplots not defined",
      "",
      "Stacktrace:",
      " [1] top-level scope",
      "   @ In[5]:2",
      " [2] eval",
      "   @ ./boot.jl:360 [inlined]",
      " [3] include_string(mapexpr::typeof(REPL.softscope), mod::Module, code::String, filename::String)",
      "   @ Base ./loading.jl:1116"
     ]
    }
   ],
   "source": [
    "# Example 4\n",
    "mcoefplot = Coefplots.MultiCoefplot(:model1 => coefplot, :model2 => coefplot_bivar)\n",
    "plot(mcoefplot)\n",
    "# plot(mcoefplot,\"../asset/example2_multicoefplot.svg\")"
   ]
  }
 ],
 "metadata": {
  "kernelspec": {
   "display_name": "Julia 1.6.2",
   "language": "julia",
   "name": "julia-1.6"
  },
  "language_info": {
   "file_extension": ".jl",
   "mimetype": "application/julia",
   "name": "julia",
   "version": "1.6.2"
  }
 },
 "nbformat": 4,
 "nbformat_minor": 4
}
